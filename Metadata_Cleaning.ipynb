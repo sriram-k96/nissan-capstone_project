{
 "cells": [
  {
   "cell_type": "code",
   "execution_count": 1,
   "id": "fbc7d353",
   "metadata": {},
   "outputs": [],
   "source": [
    "import pandas as pd\n",
    "pd.set_option('display.max_rows', 200)"
   ]
  },
  {
   "cell_type": "code",
   "execution_count": 2,
   "id": "3510dc85",
   "metadata": {},
   "outputs": [
    {
     "data": {
      "text/html": [
       "<div>\n",
       "<style scoped>\n",
       "    .dataframe tbody tr th:only-of-type {\n",
       "        vertical-align: middle;\n",
       "    }\n",
       "\n",
       "    .dataframe tbody tr th {\n",
       "        vertical-align: top;\n",
       "    }\n",
       "\n",
       "    .dataframe thead th {\n",
       "        text-align: right;\n",
       "    }\n",
       "</style>\n",
       "<table border=\"1\" class=\"dataframe\">\n",
       "  <thead>\n",
       "    <tr style=\"text-align: right;\">\n",
       "      <th></th>\n",
       "      <th>Segments</th>\n",
       "      <th>Make Model</th>\n",
       "    </tr>\n",
       "  </thead>\n",
       "  <tbody>\n",
       "    <tr>\n",
       "      <th>0</th>\n",
       "      <td>* COMPACT</td>\n",
       "      <td>CHEVROLET BOLT</td>\n",
       "    </tr>\n",
       "    <tr>\n",
       "      <th>1</th>\n",
       "      <td>* COMPACT</td>\n",
       "      <td>HONDA CIVIC</td>\n",
       "    </tr>\n",
       "    <tr>\n",
       "      <th>2</th>\n",
       "      <td>* COMPACT</td>\n",
       "      <td>HONDA INSIGHT</td>\n",
       "    </tr>\n",
       "    <tr>\n",
       "      <th>3</th>\n",
       "      <td>* COMPACT</td>\n",
       "      <td>HYUNDAI ELANTRA</td>\n",
       "    </tr>\n",
       "    <tr>\n",
       "      <th>4</th>\n",
       "      <td>* COMPACT</td>\n",
       "      <td>HYUNDAI IONIQ</td>\n",
       "    </tr>\n",
       "  </tbody>\n",
       "</table>\n",
       "</div>"
      ],
      "text/plain": [
       "    Segments       Make Model\n",
       "0  * COMPACT   CHEVROLET BOLT\n",
       "1  * COMPACT      HONDA CIVIC\n",
       "2  * COMPACT    HONDA INSIGHT\n",
       "3  * COMPACT  HYUNDAI ELANTRA\n",
       "4  * COMPACT    HYUNDAI IONIQ"
      ]
     },
     "execution_count": 2,
     "metadata": {},
     "output_type": "execute_result"
    }
   ],
   "source": [
    "segmentdf = pd.read_excel('Nissan_Segment_List.xlsx', header = 1)\n",
    "segmentdf.head()"
   ]
  },
  {
   "cell_type": "code",
   "execution_count": 3,
   "id": "0ff61186",
   "metadata": {},
   "outputs": [],
   "source": [
    "segmentdf['Segments'] = segmentdf['Segments'].apply(lambda x: x.replace('*', '').strip().title())\n",
    "segmentdf['Segments'] = segmentdf['Segments'].apply(lambda x: x.replace('Suv', 'SUV'))\n",
    "segmentdf['Make'] = segmentdf['Make Model'].str.split().str.get(0)\n",
    "segmentdf['Make Model'] = segmentdf['Make Model'].str.split().str.slice(1).str.join(' ')\n",
    "segmentdf = segmentdf.rename(columns = {'Make Model':'Model', 'Segments' : 'Segment'})\n",
    "segmentdf = segmentdf[['Segment', 'Make', 'Model']]\n",
    "segmentdf['Make'] = segmentdf['Make'].apply(lambda x: x.capitalize())\n",
    "segmentdf['Model'] = segmentdf['Model'].apply(lambda x: x.capitalize())"
   ]
  },
  {
   "cell_type": "code",
   "execution_count": 4,
   "id": "f798750a",
   "metadata": {},
   "outputs": [
    {
     "data": {
      "text/plain": [
       "Lower Midsize SUV                   25\n",
       "Compact SUV                         16\n",
       "Compact                             15\n",
       "Large SUV                           14\n",
       "Midsize SUV                         13\n",
       "Competitive Sports / Performance    11\n",
       "Fullsize SUV                        11\n",
       "Midsize Pickup                       9\n",
       "Fullsize Pickup                      9\n",
       "Lower Midsize                        8\n",
       "Entry SUV                            8\n",
       "Name: Segment, dtype: int64"
      ]
     },
     "execution_count": 4,
     "metadata": {},
     "output_type": "execute_result"
    }
   ],
   "source": [
    "segmentdf['Segment'].value_counts()"
   ]
  },
  {
   "cell_type": "code",
   "execution_count": 9,
   "id": "71a0dc76",
   "metadata": {},
   "outputs": [
    {
     "data": {
      "text/html": [
       "<div>\n",
       "<style scoped>\n",
       "    .dataframe tbody tr th:only-of-type {\n",
       "        vertical-align: middle;\n",
       "    }\n",
       "\n",
       "    .dataframe tbody tr th {\n",
       "        vertical-align: top;\n",
       "    }\n",
       "\n",
       "    .dataframe thead th {\n",
       "        text-align: right;\n",
       "    }\n",
       "</style>\n",
       "<table border=\"1\" class=\"dataframe\">\n",
       "  <thead>\n",
       "    <tr style=\"text-align: right;\">\n",
       "      <th></th>\n",
       "      <th>Segment</th>\n",
       "      <th>Make</th>\n",
       "      <th>Model</th>\n",
       "    </tr>\n",
       "  </thead>\n",
       "  <tbody>\n",
       "    <tr>\n",
       "      <th>134</th>\n",
       "      <td>Lower Midsize SUV</td>\n",
       "      <td>Subaru</td>\n",
       "      <td>Solterra</td>\n",
       "    </tr>\n",
       "    <tr>\n",
       "      <th>135</th>\n",
       "      <td>Lower Midsize SUV</td>\n",
       "      <td>Toyota</td>\n",
       "      <td>Bz4x</td>\n",
       "    </tr>\n",
       "    <tr>\n",
       "      <th>136</th>\n",
       "      <td>Lower Midsize SUV</td>\n",
       "      <td>Toyota</td>\n",
       "      <td>Rav4</td>\n",
       "    </tr>\n",
       "    <tr>\n",
       "      <th>137</th>\n",
       "      <td>Lower Midsize SUV</td>\n",
       "      <td>Volkswagen</td>\n",
       "      <td>Id4</td>\n",
       "    </tr>\n",
       "    <tr>\n",
       "      <th>138</th>\n",
       "      <td>Lower Midsize SUV</td>\n",
       "      <td>Volkswagen</td>\n",
       "      <td>Tiguan</td>\n",
       "    </tr>\n",
       "  </tbody>\n",
       "</table>\n",
       "</div>"
      ],
      "text/plain": [
       "               Segment        Make     Model\n",
       "134  Lower Midsize SUV      Subaru  Solterra\n",
       "135  Lower Midsize SUV      Toyota      Bz4x\n",
       "136  Lower Midsize SUV      Toyota      Rav4\n",
       "137  Lower Midsize SUV  Volkswagen       Id4\n",
       "138  Lower Midsize SUV  Volkswagen    Tiguan"
      ]
     },
     "execution_count": 9,
     "metadata": {},
     "output_type": "execute_result"
    }
   ],
   "source": [
    "segmentdf.tail()"
   ]
  },
  {
   "cell_type": "code",
   "execution_count": 6,
   "id": "f8cc6d55",
   "metadata": {},
   "outputs": [],
   "source": [
    "segmentdf.to_excel('VehicleSegments.xlsx')"
   ]
  }
 ],
 "metadata": {
  "kernelspec": {
   "display_name": "Python 3 (ipykernel)",
   "language": "python",
   "name": "python3"
  },
  "language_info": {
   "codemirror_mode": {
    "name": "ipython",
    "version": 3
   },
   "file_extension": ".py",
   "mimetype": "text/x-python",
   "name": "python",
   "nbconvert_exporter": "python",
   "pygments_lexer": "ipython3",
   "version": "3.9.13"
  }
 },
 "nbformat": 4,
 "nbformat_minor": 5
}
